{
  "cells": [
    {
      "cell_type": "code",
      "execution_count": null,
      "id": "826c03c6",
      "metadata": {
        "id": "826c03c6"
      },
      "outputs": [],
      "source": [
        "import pandas as pd\n",
        "import numpy as np"
      ]
    },
    {
      "cell_type": "markdown",
      "id": "3197188b",
      "metadata": {
        "id": "3197188b"
      },
      "source": [
        "# Game 1"
      ]
    },
    {
      "cell_type": "code",
      "execution_count": null,
      "id": "ddd81595",
      "metadata": {
        "id": "ddd81595",
        "outputId": "f17a118c-4bb2-4add-e80c-b90fe6e439c9"
      },
      "outputs": [
        {
          "data": {
            "text/plain": [
              "array([[61, 44, 81],\n",
              "       [85, 63, 66],\n",
              "       [48, 83, 97],\n",
              "       [40, 79, 74],\n",
              "       [98, 65, 86],\n",
              "       [56, 51, 74],\n",
              "       [51, 89, 75],\n",
              "       [47, 69, 46],\n",
              "       [83, 44, 56],\n",
              "       [49, 89, 75]])"
            ]
          },
          "execution_count": 155,
          "metadata": {},
          "output_type": "execute_result"
        }
      ],
      "source": [
        "np.random.randint(low = 40,high = 100,size = (10,3))\n"
      ]
    },
    {
      "cell_type": "code",
      "execution_count": null,
      "id": "6b157a42",
      "metadata": {
        "id": "6b157a42",
        "outputId": "b25e8687-ad9b-41a5-b93e-5432f1417c7f"
      },
      "outputs": [
        {
          "name": "stdout",
          "output_type": "stream",
          "text": [
            "    0   1   2\n",
            "0  55  97  64\n",
            "1  65  97  92\n",
            "2  70  64  61\n",
            "3  64  72  44\n",
            "4  92  74  62\n",
            "5  95  84  86\n",
            "6  96  87  90\n",
            "7  68  54  70\n",
            "8  48  79  95\n",
            "9  59  66  96\n"
          ]
        }
      ],
      "source": [
        "# Organize the data as a list of lists\n",
        "data = np.random.randint(low = 40,high = 100,size = (10,3))\n",
        "\n",
        "# Create a Pandas DataFrame\n",
        "df = pd.DataFrame(data)\n",
        "\n",
        "# Optionally, set column names if you have them\n",
        "# df.columns = ['Column1', 'Column2', 'Column3']\n",
        "\n",
        "# Display the DataFrame\n",
        "print(df)\n"
      ]
    },
    {
      "cell_type": "code",
      "execution_count": null,
      "id": "2bf68bd0",
      "metadata": {
        "id": "2bf68bd0"
      },
      "outputs": [],
      "source": [
        "maxi = df.max(axis=1)"
      ]
    },
    {
      "cell_type": "code",
      "execution_count": null,
      "id": "a4d80d64",
      "metadata": {
        "id": "a4d80d64"
      },
      "outputs": [],
      "source": [
        "am = maxi+1"
      ]
    },
    {
      "cell_type": "code",
      "execution_count": null,
      "id": "a99193d5",
      "metadata": {
        "id": "a99193d5",
        "outputId": "fb172a95-bd42-4b5f-97c3-24d8fde66abf"
      },
      "outputs": [
        {
          "data": {
            "text/plain": [
              "0    1.908485\n",
              "1    1.838849\n",
              "2    1.792392\n",
              "3    1.977724\n",
              "4    1.977724\n",
              "5    1.968483\n",
              "6    1.934498\n",
              "7    1.991226\n",
              "8    1.949390\n",
              "9    1.812913\n",
              "dtype: float64"
            ]
          },
          "execution_count": 107,
          "metadata": {},
          "output_type": "execute_result"
        }
      ],
      "source": [
        "np.log10(am)"
      ]
    },
    {
      "cell_type": "code",
      "execution_count": null,
      "id": "4950f6b4",
      "metadata": {
        "id": "4950f6b4",
        "outputId": "1746965a-b2aa-4ed0-d0e7-f8cea49c1704"
      },
      "outputs": [
        {
          "data": {
            "text/plain": [
              "0    1\n",
              "1    0\n",
              "2    0\n",
              "3    2\n",
              "4    2\n",
              "5    2\n",
              "6    2\n",
              "7    2\n",
              "8    0\n",
              "9    1\n",
              "dtype: int64"
            ]
          },
          "execution_count": 108,
          "metadata": {},
          "output_type": "execute_result"
        }
      ],
      "source": [
        "df.idxmax(axis=1)"
      ]
    },
    {
      "cell_type": "code",
      "execution_count": null,
      "id": "81efa7e0",
      "metadata": {
        "id": "81efa7e0",
        "outputId": "734ccb4e-54fb-492f-d484-c33ca84bda4b"
      },
      "outputs": [
        {
          "data": {
            "text/plain": [
              "0    80\n",
              "1    68\n",
              "2    61\n",
              "3    94\n",
              "4    94\n",
              "5    92\n",
              "6    85\n",
              "7    97\n",
              "8    88\n",
              "9    64\n",
              "dtype: int64"
            ]
          },
          "execution_count": 109,
          "metadata": {},
          "output_type": "execute_result"
        }
      ],
      "source": [
        "maxi"
      ]
    },
    {
      "cell_type": "code",
      "execution_count": null,
      "id": "2b2b0359",
      "metadata": {
        "id": "2b2b0359",
        "outputId": "606e64df-aaca-495a-e4a0-0f42b3e97b6d"
      },
      "outputs": [
        {
          "data": {
            "text/plain": [
              "7    97\n",
              "dtype: int64"
            ]
          },
          "execution_count": 110,
          "metadata": {},
          "output_type": "execute_result"
        }
      ],
      "source": [
        "maxi[maxi == maxi.max()]"
      ]
    },
    {
      "cell_type": "code",
      "execution_count": null,
      "id": "22b3a505",
      "metadata": {
        "id": "22b3a505"
      },
      "outputs": [],
      "source": [
        "bol = df.apply(lambda row: row.idxmax(), axis=1)"
      ]
    },
    {
      "cell_type": "code",
      "execution_count": null,
      "id": "88b77892",
      "metadata": {
        "id": "88b77892",
        "outputId": "eecc79fc-c02f-4f53-92dd-ccaa5a0a189a"
      },
      "outputs": [
        {
          "data": {
            "text/plain": [
              "0    None\n",
              "1    None\n",
              "2    None\n",
              "3    None\n",
              "4    None\n",
              "5    None\n",
              "6    None\n",
              "7    None\n",
              "8    None\n",
              "9    None\n",
              "dtype: object"
            ]
          },
          "execution_count": 112,
          "metadata": {},
          "output_type": "execute_result"
        }
      ],
      "source": [
        "df.apply(lambda row: row.idxmax(), axis=1).apply(lambda x: x if df.apply(lambda row: row == row.max(), axis=1)[x].sum() == 1 else None)"
      ]
    },
    {
      "cell_type": "code",
      "execution_count": null,
      "id": "b54db0ee",
      "metadata": {
        "id": "b54db0ee",
        "outputId": "0cbdc683-c702-40d6-a2f2-93aca4fcfc18"
      },
      "outputs": [
        {
          "name": "stdout",
          "output_type": "stream",
          "text": [
            "The maximum column index with the highest value occurred 5 times.\n",
            "The column index(es) with the maximum count: [2]\n"
          ]
        }
      ],
      "source": [
        "column_counts = {}\n",
        "\n",
        "# Iterate through the rows\n",
        "for row in data:\n",
        "    max_index = np.argmax(row)  # Find the column index with the maximum value\n",
        "\n",
        "    # Increment the count for the maximum column index\n",
        "    if max_index in column_counts:\n",
        "        column_counts[max_index] += 1\n",
        "    else:\n",
        "        column_counts[max_index] = 1\n",
        "\n",
        "# Find the maximum count and corresponding column index\n",
        "max_count = max(column_counts.values())\n",
        "max_columns = [index for index, count in column_counts.items() if count == max_count]\n",
        "\n",
        "print(f\"The maximum column index with the highest value occurred {max_count} times.\")\n",
        "print(f\"The column index(es) with the maximum count: {max_columns}\")"
      ]
    },
    {
      "cell_type": "code",
      "execution_count": null,
      "id": "6dd505db",
      "metadata": {
        "id": "6dd505db",
        "outputId": "d17979db-723a-49cf-c8e9-d119878c9194"
      },
      "outputs": [
        {
          "data": {
            "text/html": [
              "<div>\n",
              "<style scoped>\n",
              "    .dataframe tbody tr th:only-of-type {\n",
              "        vertical-align: middle;\n",
              "    }\n",
              "\n",
              "    .dataframe tbody tr th {\n",
              "        vertical-align: top;\n",
              "    }\n",
              "\n",
              "    .dataframe thead th {\n",
              "        text-align: right;\n",
              "    }\n",
              "</style>\n",
              "<table border=\"1\" class=\"dataframe\">\n",
              "  <thead>\n",
              "    <tr style=\"text-align: right;\">\n",
              "      <th></th>\n",
              "      <th>2</th>\n",
              "    </tr>\n",
              "  </thead>\n",
              "  <tbody>\n",
              "    <tr>\n",
              "      <th>0</th>\n",
              "      <td>62</td>\n",
              "    </tr>\n",
              "    <tr>\n",
              "      <th>1</th>\n",
              "      <td>41</td>\n",
              "    </tr>\n",
              "    <tr>\n",
              "      <th>2</th>\n",
              "      <td>55</td>\n",
              "    </tr>\n",
              "    <tr>\n",
              "      <th>3</th>\n",
              "      <td>94</td>\n",
              "    </tr>\n",
              "    <tr>\n",
              "      <th>4</th>\n",
              "      <td>94</td>\n",
              "    </tr>\n",
              "    <tr>\n",
              "      <th>5</th>\n",
              "      <td>92</td>\n",
              "    </tr>\n",
              "    <tr>\n",
              "      <th>6</th>\n",
              "      <td>85</td>\n",
              "    </tr>\n",
              "    <tr>\n",
              "      <th>7</th>\n",
              "      <td>97</td>\n",
              "    </tr>\n",
              "    <tr>\n",
              "      <th>8</th>\n",
              "      <td>56</td>\n",
              "    </tr>\n",
              "    <tr>\n",
              "      <th>9</th>\n",
              "      <td>61</td>\n",
              "    </tr>\n",
              "  </tbody>\n",
              "</table>\n",
              "</div>"
            ],
            "text/plain": [
              "    2\n",
              "0  62\n",
              "1  41\n",
              "2  55\n",
              "3  94\n",
              "4  94\n",
              "5  92\n",
              "6  85\n",
              "7  97\n",
              "8  56\n",
              "9  61"
            ]
          },
          "execution_count": 124,
          "metadata": {},
          "output_type": "execute_result"
        }
      ],
      "source": [
        "bid = df[max_columns]\n",
        "bid[max_columns]"
      ]
    },
    {
      "cell_type": "code",
      "execution_count": null,
      "id": "0ba30a4b",
      "metadata": {
        "id": "0ba30a4b"
      },
      "outputs": [],
      "source": [
        " ans = (bid[max_columns] - np.log10(maxi + 1))/10"
      ]
    },
    {
      "cell_type": "code",
      "execution_count": null,
      "id": "704f0ce9",
      "metadata": {
        "id": "704f0ce9",
        "outputId": "8188ad99-a299-4eca-cae4-780782c6d37a"
      },
      "outputs": [
        {
          "data": {
            "text/plain": [
              "2    71.907608\n",
              "dtype: float64"
            ]
          },
          "execution_count": 127,
          "metadata": {},
          "output_type": "execute_result"
        }
      ],
      "source": [
        "ans[max_columns].sum()"
      ]
    },
    {
      "cell_type": "markdown",
      "id": "73aaa8ae",
      "metadata": {
        "id": "73aaa8ae"
      },
      "source": [
        "### Full total code"
      ]
    },
    {
      "cell_type": "code",
      "execution_count": null,
      "id": "74d5076a",
      "metadata": {
        "id": "74d5076a",
        "outputId": "1a373e40-155a-4a3e-b63b-f4f9568564a3"
      },
      "outputs": [
        {
          "data": {
            "text/plain": [
              "2    71.907608\n",
              "dtype: float64"
            ]
          },
          "execution_count": 153,
          "metadata": {},
          "output_type": "execute_result"
        }
      ],
      "source": [
        "data = np.random.randint(low = 40,high = 100,size = (10,3))\n",
        "\n",
        "# Create a Pandas DataFrame\n",
        "df = pd.DataFrame(data)\n",
        "maxi = df.max(axis=1)\n",
        "column_counts = {}\n",
        "\n",
        "# Iterate through the rows\n",
        "for row in data:\n",
        "    max_index = np.argmax(row)  # Find the column index with the maximum value\n",
        "\n",
        "    # Increment the count for the maximum column index\n",
        "    if max_index in column_counts:\n",
        "        column_counts[max_index] += 1\n",
        "    else:\n",
        "        column_counts[max_index] = 1\n",
        "bol = df.apply(lambda row: row.idxmax(), axis=1)\n",
        "# Find the maximum count and corresponding column index\n",
        "max_count = max(column_counts.values())\n",
        "max_columns = [index for index, count in column_counts.items() if count == max_count]\n",
        "bid = df[max_columns]\n",
        "ans = (bid[max_columns] - np.log10(maxi + 1))/10\n",
        "ans[max_columns].sum()"
      ]
    },
    {
      "cell_type": "markdown",
      "id": "e47e464c",
      "metadata": {
        "id": "e47e464c"
      },
      "source": [
        "# For Game 2"
      ]
    },
    {
      "cell_type": "code",
      "execution_count": null,
      "id": "63484538",
      "metadata": {
        "id": "63484538",
        "outputId": "d128db70-d01d-4375-9888-2bb2b49d7b6f"
      },
      "outputs": [
        {
          "name": "stdout",
          "output_type": "stream",
          "text": [
            "    0   1   2   s\n",
            "0  69  49  52  52\n",
            "1  58  68  99  68\n",
            "2  91  47  55  55\n",
            "3  79  52  65  65\n",
            "4  87  55  77  77\n",
            "5  81  41  88  81\n",
            "6  59  76  66  66\n",
            "7  54  48  41  48\n",
            "8  42  95  52  52\n",
            "9  80  87  96  87\n"
          ]
        }
      ],
      "source": [
        "data = np.random.randint(low = 40,high = 100,size = (10,3))\n",
        "\n",
        "df = pd.DataFrame(data)\n",
        "bol = df.apply(lambda row: row.idxmax(), axis=1)\n",
        "# Define a function to find the second highest value in a row\n",
        "def second_highest(row):\n",
        "    row_sorted = sorted(row, reverse=True)\n",
        "    return row_sorted[1] if len(row_sorted) >= 2 else None\n",
        "df = pd.DataFrame(data)\n",
        "maxi = df.max(axis=1)\n",
        "column_counts = {}\n",
        "\n",
        "# Iterate through the rows\n",
        "for row in data:\n",
        "    max_index = np.argmax(row)  # Find the column index with the maximum value\n",
        "\n",
        "    # Increment the count for the maximum column index\n",
        "    if max_index in column_counts:\n",
        "        column_counts[max_index] += 1\n",
        "    else:\n",
        "        column_counts[max_index] = 1\n",
        "bol = df.apply(lambda row: row.idxmax(), axis=1)\n",
        "# Find the maximum count and corresponding column index\n",
        "max_count = max(column_counts.values())\n",
        "max_columns = [index for index, count in column_counts.items() if count == max_count]\n",
        "# Apply the function to each row in the DataFrame\n",
        "df['s'] = df.apply(second_highest, axis=1)\n",
        "\n",
        "# Display the DataFrame with the second highest values\n",
        "print(df)"
      ]
    },
    {
      "cell_type": "code",
      "execution_count": null,
      "id": "cc7a61fc",
      "metadata": {
        "id": "cc7a61fc",
        "outputId": "e64700ff-849b-4416-dc24-c304ace5d3c1"
      },
      "outputs": [
        {
          "data": {
            "text/plain": [
              "0    0\n",
              "1    2\n",
              "2    0\n",
              "3    0\n",
              "4    0\n",
              "5    2\n",
              "6    1\n",
              "7    0\n",
              "8    1\n",
              "9    2\n",
              "dtype: int64"
            ]
          },
          "execution_count": 131,
          "metadata": {},
          "output_type": "execute_result"
        }
      ],
      "source": [
        "bol"
      ]
    },
    {
      "cell_type": "code",
      "execution_count": null,
      "id": "96c31477",
      "metadata": {
        "id": "96c31477"
      },
      "outputs": [],
      "source": [
        "df['bool'] = bol"
      ]
    },
    {
      "cell_type": "code",
      "execution_count": null,
      "id": "4eac0b64",
      "metadata": {
        "id": "4eac0b64",
        "outputId": "dc47f0cd-5647-4850-ceb3-589a7ef78adf"
      },
      "outputs": [
        {
          "data": {
            "text/html": [
              "<div>\n",
              "<style scoped>\n",
              "    .dataframe tbody tr th:only-of-type {\n",
              "        vertical-align: middle;\n",
              "    }\n",
              "\n",
              "    .dataframe tbody tr th {\n",
              "        vertical-align: top;\n",
              "    }\n",
              "\n",
              "    .dataframe thead th {\n",
              "        text-align: right;\n",
              "    }\n",
              "</style>\n",
              "<table border=\"1\" class=\"dataframe\">\n",
              "  <thead>\n",
              "    <tr style=\"text-align: right;\">\n",
              "      <th></th>\n",
              "      <th>0</th>\n",
              "      <th>1</th>\n",
              "      <th>2</th>\n",
              "      <th>s</th>\n",
              "      <th>bool</th>\n",
              "    </tr>\n",
              "  </thead>\n",
              "  <tbody>\n",
              "    <tr>\n",
              "      <th>0</th>\n",
              "      <td>69</td>\n",
              "      <td>49</td>\n",
              "      <td>52</td>\n",
              "      <td>52</td>\n",
              "      <td>0</td>\n",
              "    </tr>\n",
              "    <tr>\n",
              "      <th>1</th>\n",
              "      <td>58</td>\n",
              "      <td>68</td>\n",
              "      <td>99</td>\n",
              "      <td>68</td>\n",
              "      <td>2</td>\n",
              "    </tr>\n",
              "    <tr>\n",
              "      <th>2</th>\n",
              "      <td>91</td>\n",
              "      <td>47</td>\n",
              "      <td>55</td>\n",
              "      <td>55</td>\n",
              "      <td>0</td>\n",
              "    </tr>\n",
              "    <tr>\n",
              "      <th>3</th>\n",
              "      <td>79</td>\n",
              "      <td>52</td>\n",
              "      <td>65</td>\n",
              "      <td>65</td>\n",
              "      <td>0</td>\n",
              "    </tr>\n",
              "    <tr>\n",
              "      <th>4</th>\n",
              "      <td>87</td>\n",
              "      <td>55</td>\n",
              "      <td>77</td>\n",
              "      <td>77</td>\n",
              "      <td>0</td>\n",
              "    </tr>\n",
              "    <tr>\n",
              "      <th>5</th>\n",
              "      <td>81</td>\n",
              "      <td>41</td>\n",
              "      <td>88</td>\n",
              "      <td>81</td>\n",
              "      <td>2</td>\n",
              "    </tr>\n",
              "    <tr>\n",
              "      <th>6</th>\n",
              "      <td>59</td>\n",
              "      <td>76</td>\n",
              "      <td>66</td>\n",
              "      <td>66</td>\n",
              "      <td>1</td>\n",
              "    </tr>\n",
              "    <tr>\n",
              "      <th>7</th>\n",
              "      <td>54</td>\n",
              "      <td>48</td>\n",
              "      <td>41</td>\n",
              "      <td>48</td>\n",
              "      <td>0</td>\n",
              "    </tr>\n",
              "    <tr>\n",
              "      <th>8</th>\n",
              "      <td>42</td>\n",
              "      <td>95</td>\n",
              "      <td>52</td>\n",
              "      <td>52</td>\n",
              "      <td>1</td>\n",
              "    </tr>\n",
              "    <tr>\n",
              "      <th>9</th>\n",
              "      <td>80</td>\n",
              "      <td>87</td>\n",
              "      <td>96</td>\n",
              "      <td>87</td>\n",
              "      <td>2</td>\n",
              "    </tr>\n",
              "  </tbody>\n",
              "</table>\n",
              "</div>"
            ],
            "text/plain": [
              "    0   1   2   s  bool\n",
              "0  69  49  52  52     0\n",
              "1  58  68  99  68     2\n",
              "2  91  47  55  55     0\n",
              "3  79  52  65  65     0\n",
              "4  87  55  77  77     0\n",
              "5  81  41  88  81     2\n",
              "6  59  76  66  66     1\n",
              "7  54  48  41  48     0\n",
              "8  42  95  52  52     1\n",
              "9  80  87  96  87     2"
            ]
          },
          "execution_count": 133,
          "metadata": {},
          "output_type": "execute_result"
        }
      ],
      "source": [
        "df"
      ]
    },
    {
      "cell_type": "code",
      "execution_count": null,
      "id": "c56d738b",
      "metadata": {
        "scrolled": false,
        "id": "c56d738b",
        "outputId": "cbe3cfc4-6e33-40e9-cf9f-b73df2442e4a"
      },
      "outputs": [
        {
          "data": {
            "text/plain": [
              "0"
            ]
          },
          "execution_count": 146,
          "metadata": {},
          "output_type": "execute_result"
        }
      ],
      "source": [
        "a = max_columns[0]\n",
        "a"
      ]
    },
    {
      "cell_type": "code",
      "execution_count": null,
      "id": "d172b047",
      "metadata": {
        "id": "d172b047"
      },
      "outputs": [],
      "source": [
        "ex= df[df['bool'] == a]"
      ]
    },
    {
      "cell_type": "code",
      "execution_count": null,
      "id": "371bf990",
      "metadata": {
        "id": "371bf990",
        "outputId": "9854331d-6a30-4445-c525-13ba1d2b50bc"
      },
      "outputs": [
        {
          "data": {
            "text/plain": [
              "0    52\n",
              "2    55\n",
              "3    65\n",
              "4    77\n",
              "7    48\n",
              "Name: s, dtype: int64"
            ]
          },
          "execution_count": 148,
          "metadata": {},
          "output_type": "execute_result"
        }
      ],
      "source": [
        "second_l = ex['s']\n",
        "second_l"
      ]
    },
    {
      "cell_type": "code",
      "execution_count": null,
      "id": "f30c95e2",
      "metadata": {
        "id": "f30c95e2"
      },
      "outputs": [],
      "source": [
        "sqrt = np.sqrt(second_l)"
      ]
    },
    {
      "cell_type": "code",
      "execution_count": null,
      "id": "58160294",
      "metadata": {
        "id": "58160294"
      },
      "outputs": [],
      "source": [
        "rms_value = np.sqrt(np.mean(sqrt**2))\n",
        "n= 10"
      ]
    },
    {
      "cell_type": "code",
      "execution_count": null,
      "id": "1d968b81",
      "metadata": {
        "id": "1d968b81",
        "outputId": "04c50b5e-57b2-49a6-ba33-24a1fd556921"
      },
      "outputs": [
        {
          "data": {
            "text/plain": [
              "69.36425592479169"
            ]
          },
          "execution_count": 151,
          "metadata": {},
          "output_type": "execute_result"
        }
      ],
      "source": [
        "rms_value*(n-1)"
      ]
    },
    {
      "cell_type": "code",
      "execution_count": null,
      "id": "0a865b51",
      "metadata": {
        "id": "0a865b51"
      },
      "outputs": [],
      "source": []
    }
  ],
  "metadata": {
    "kernelspec": {
      "display_name": "Python 3 (ipykernel)",
      "language": "python",
      "name": "python3"
    },
    "language_info": {
      "codemirror_mode": {
        "name": "ipython",
        "version": 3
      },
      "file_extension": ".py",
      "mimetype": "text/x-python",
      "name": "python",
      "nbconvert_exporter": "python",
      "pygments_lexer": "ipython3",
      "version": "3.10.9"
    },
    "colab": {
      "provenance": []
    }
  },
  "nbformat": 4,
  "nbformat_minor": 5
}